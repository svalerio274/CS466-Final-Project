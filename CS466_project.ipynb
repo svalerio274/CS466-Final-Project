{
  "nbformat": 4,
  "nbformat_minor": 0,
  "metadata": {
    "colab": {
      "provenance": []
    },
    "kernelspec": {
      "name": "python3",
      "display_name": "Python 3"
    },
    "language_info": {
      "name": "python"
    }
  },
  "cells": [
    {
      "cell_type": "markdown",
      "source": [
        "###Affine Gap Support"
      ],
      "metadata": {
        "id": "Lej4OShN8mn-"
      }
    },
    {
      "cell_type": "code",
      "source": [
        "# Performs a backtrace of strings s1 and s2 using matrix s\n",
        "def Backtrace(s,s1,s2):\n",
        "  i = len(s1)\n",
        "  j = len(s2)\n",
        "  v = \"\"\n",
        "  w = \"\"\n",
        "  r_shift = 2\n",
        "  while not (i == 0 and j == 0):\n",
        "\n",
        "    r_shift, i_shift, j_shift, val = s[r_shift][i][j]\n",
        "\n",
        "    if i_shift == 0 and j_shift == 0:\n",
        "      continue\n",
        "\n",
        "    if i_shift == -1 and j_shift == 0: # top\n",
        "      v = s1[i-1] + v\n",
        "      w = \"-\" + w\n",
        "      i = i-1\n",
        "    elif i_shift == -1 and j_shift == -1: # diag\n",
        "      v = s1[i-1] + v\n",
        "      w = s2[j-1] + w\n",
        "      i = i-1\n",
        "      j = j-1\n",
        "    else: #left\n",
        "      w = s2[j-1] + w\n",
        "      v = \"-\" + v\n",
        "      j = j-1\n",
        "\n",
        "  return v,w"
      ],
      "metadata": {
        "id": "kLrH-Rh7UYQm"
      },
      "execution_count": 6,
      "outputs": []
    },
    {
      "cell_type": "code",
      "source": [
        "# Creates the scoreing function delta used in the recurrence\n",
        "def get_delta():\n",
        "  l = [\"A\",\"T\",\"C\",\"G\",\"-\"]\n",
        "  to_return =  {}\n",
        "\n",
        "  indel_score = -1 # -2 # gap\n",
        "  match_score = 1\n",
        "  mismatch_score = -1\n",
        "\n",
        "  for a in l:\n",
        "    to_return[a] = {}\n",
        "    for b in l:\n",
        "      if a == \"-\" and b == \"-\":\n",
        "        to_return[a][b] = float(\"-inf\")\n",
        "      elif a == b:\n",
        "        to_return[a][b] = match_score\n",
        "      elif a == \"-\" or b == \"-\":\n",
        "        to_return[a][b] = indel_score\n",
        "      else:\n",
        "        to_return[a][b] = mismatch_score\n",
        "\n",
        "  return to_return\n",
        "\n",
        "# Finds the max value between the zero_value, deletion_value,\n",
        "# insertion_value, and the match_value\n",
        "# Returns the maximum value and the associated backpointers\n",
        "def find_max(zero_value, deletion_value, insertion_value, match_value):\n",
        "    max_value = max(zero_value, deletion_value, insertion_value, match_value)\n",
        "\n",
        "    if deletion_value == max_value:\n",
        "        return 1, 0, 0, max_value\n",
        "    elif insertion_value == max_value:\n",
        "        return 0, 0, 0, max_value\n",
        "    elif match_value == max_value:\n",
        "        return 2, -1, -1, max_value\n",
        "    else: # Zero value\n",
        "        return 2, 0, 0, max_value\n",
        "\n",
        "# Performs the Needleman-Wunsch recurrence for global alignment\n",
        "# returns the resulting alignments\n",
        "def NeedlemanWunsch(v, w, sigma, rho):\n",
        "\n",
        "    s = [ [[0 for j in range(len(w) + 1)] for i in range(len(v) + 1)] for k in range(3)]\n",
        "\n",
        "    delta = get_delta()\n",
        "\n",
        "    for i in range(len(v) + 1):\n",
        "        for j in range(len(w) + 1):\n",
        "            for k in range(3):\n",
        "                zero_value = -float('inf')\n",
        "                deletion_value = -float('inf')\n",
        "                insertion_value = -float('inf')\n",
        "                match_value = -float('inf')\n",
        "\n",
        "                if k == 0: # Insertion, Gap in first (right arrow)\n",
        "\n",
        "                    if j > 1:\n",
        "                        insertion_value = s[0][i][j - 1][3] - sigma\n",
        "                    if j > 0:\n",
        "                        match_value = s[2][i][j - 1][3] - (sigma + rho)\n",
        "\n",
        "                    if insertion_value > match_value:\n",
        "                      s[0][i][j] = (0, 0, -1, insertion_value)\n",
        "                    else:\n",
        "                      s[0][i][j] = (2, 0, -1, match_value)\n",
        "\n",
        "                elif k == 1: # Deletion, Gap in second (down arrow)\n",
        "\n",
        "                    if i > 1:\n",
        "                        deletion_value = s[1][i - 1][j][3] - sigma\n",
        "                    if i > 0:\n",
        "                        match_value = s[2][i - 1][j][3] - (sigma + rho)\n",
        "\n",
        "                    if deletion_value > match_value:\n",
        "                      s[1][i][j] = (1, -1, 0, deletion_value)\n",
        "                    else:\n",
        "                      s[1][i][j] = (2, -1, 0, match_value)\n",
        "\n",
        "                else: # Match (diagonal arrow)\n",
        "\n",
        "                    if i == 0 and j == 0:\n",
        "                        zero_value = 0\n",
        "                    if i > 0:\n",
        "                        deletion_value = s[1][i][j][3]\n",
        "                    if j > 0:\n",
        "                        insertion_value = s[0][i][j][3]\n",
        "                    if i > 0 and j > 0:\n",
        "                        match_value = s[2][i - 1][j - 1][3] + delta[v[i-1]][w[j-1]]\n",
        "\n",
        "                    r_shift, i_shift, j_shift, max_value = find_max(zero_value, deletion_value, insertion_value, match_value)\n",
        "\n",
        "                    s[2][i][j] = (r_shift, i_shift, j_shift, max_value)\n",
        "\n",
        "    return Backtrace(s,v,w)"
      ],
      "metadata": {
        "id": "wl7UjARI8oTo"
      },
      "execution_count": 7,
      "outputs": []
    },
    {
      "cell_type": "markdown",
      "source": [
        "### Tests"
      ],
      "metadata": {
        "id": "zxtrzsaCWID4"
      }
    },
    {
      "cell_type": "code",
      "source": [
        "# Tests for Needleman-Wunsch algorithm using rho = 0\n",
        "\n",
        "# Test 1\n",
        "v = \"GCATCGATGGGATCGATGGA\"\n",
        "w = \"GTCAGTCAGTTTTAGCTAG\"\n",
        "s1, s2 = NeedlemanWunsch(v, w, sigma=1, rho=0)\n",
        "\n",
        "s3 = \"G-CA-TCGATGGGATCGATGGA\"\n",
        "s4 = \"GTCAGTC-A-GTTTTAGCTAG-\"\n",
        "if (s1 == s3 and s2 == s4) or (s1 == s4 and s2 == s3):\n",
        "    print(\"Test 1 Pass\")\n",
        "else:\n",
        "    print(\"Test 1 Fail\")\n",
        "\n",
        "\n",
        "# Test 2\n",
        "v = \"AAACTGGATCTTCGTA\"\n",
        "w = \"AGTCCCTTGACAGCTAGCTT\"\n",
        "s1, s2 = NeedlemanWunsch(v, w, sigma=1, rho=0)\n",
        "\n",
        "s3 = \"AGTCCCTTGACAGCTAGCTT-\"\n",
        "s4 = \"AAAC--TGGAT--CTT-CGTA\"\n",
        "\n",
        "if (s1 == s3 and s2 == s4) or (s1 == s4 and s2 == s3):\n",
        "    print(\"Test 2 Pass\")\n",
        "else:\n",
        "    print(\"Test 2 Fail\")\n",
        "\n",
        "# Test 3\n",
        "v = \"TCATTTCAGTCTTTACGAGC\"\n",
        "w = \"TTTTCAGTCTTTCAGCGATT\"\n",
        "s1, s2 = NeedlemanWunsch(v, w, sigma=1, rho=0)\n",
        "\n",
        "s3 = \"T--TTTCAGTCTTTCAGCGATT\"\n",
        "s4 = \"TCATTTCAGTCTTT-A-CGAGC\"\n",
        "\n",
        "if (s1 == s3 and s2 == s4) or (s1 == s4 and s2 == s3):\n",
        "    print(\"Test 3 Pass\")\n",
        "else:\n",
        "    print(\"Test 3 Fail\")"
      ],
      "metadata": {
        "id": "tj63-MTaC1h3",
        "colab": {
          "base_uri": "https://localhost:8080/"
        },
        "outputId": "6b7b69fc-21fa-419b-b4dc-8ae585872195"
      },
      "execution_count": 8,
      "outputs": [
        {
          "output_type": "stream",
          "name": "stdout",
          "text": [
            "Test 1 Pass\n",
            "Test 2 Pass\n",
            "Test 3 Pass\n"
          ]
        }
      ]
    },
    {
      "cell_type": "code",
      "source": [
        "import random\n",
        "\n",
        "# Counts the number of continuous gaps\n",
        "# returns the resulting counts\n",
        "def count_gaps(s):\n",
        "  gap = False\n",
        "\n",
        "  count = 0\n",
        "  for c in s:\n",
        "    if not gap and c == \"-\":\n",
        "      count += 1\n",
        "      gap = True\n",
        "\n",
        "    if gap and c != \"-\":\n",
        "      gap = False\n",
        "\n",
        "  return count\n",
        "\n",
        "# Creates n recurrences of length l\n",
        "# prints the number of continuous gaps\n",
        "# for rho = 0 and rho = 10\n",
        "def test_affine(n,l):\n",
        "  alph = [\"A\",\"T\",\"C\",\"G\"]\n",
        "\n",
        "  count_wun = 0\n",
        "  count_aff = 0\n",
        "\n",
        "  for n in range(n):\n",
        "    cur_v = \"\"\n",
        "    cur_w = \"\"\n",
        "    for l in range(l):\n",
        "      idx = random.randint(0,3)\n",
        "      cur_v = cur_v + alph[idx]\n",
        "\n",
        "      idx = random.randint(0,3)\n",
        "      cur_w = cur_w + alph[idx]\n",
        "\n",
        "    v_wun, w_wun = NeedlemanWunsch(cur_v, cur_w, sigma=1, rho=0)\n",
        "    v_aff, w_aff = NeedlemanWunsch(cur_v, cur_w, sigma=1, rho=10)\n",
        "\n",
        "    count_wun += count_gaps(v_wun) + count_gaps(w_wun)\n",
        "    count_aff += count_gaps(v_aff) + count_gaps(w_aff)\n",
        "\n",
        "  print(\"wunsch gaps = \", count_wun,\" Aff gaps = \", count_aff)\n",
        "  print(\"dif = \",count_wun - count_aff)\n",
        "  print(\"ratio = \", count_wun / count_aff)\n",
        "\n",
        "  return"
      ],
      "metadata": {
        "id": "e-VQANnsYq-p"
      },
      "execution_count": 9,
      "outputs": []
    },
    {
      "cell_type": "code",
      "source": [
        "n = 100\n",
        "l = 1000\n",
        "test_affine(n, l)"
      ],
      "metadata": {
        "id": "Ls0UaIOV77Xz",
        "colab": {
          "base_uri": "https://localhost:8080/"
        },
        "outputId": "c473dfee-2999-41fb-9326-578225d45d90"
      },
      "execution_count": 10,
      "outputs": [
        {
          "output_type": "stream",
          "name": "stdout",
          "text": [
            "wunsch gaps =  23961  Aff gaps =  979\n",
            "dif =  22982\n",
            "ratio =  24.47497446373851\n"
          ]
        }
      ]
    },
    {
      "cell_type": "code",
      "source": [],
      "metadata": {
        "id": "nEa60i1R79aK"
      },
      "execution_count": 10,
      "outputs": []
    }
  ]
}